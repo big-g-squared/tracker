{
 "cells": [
  {
   "cell_type": "markdown",
   "metadata": {},
   "source": [
    "## Purpose"
   ]
  },
  {
   "cell_type": "markdown",
   "metadata": {},
   "source": [
    "The intentions for this notebook are to explore the possible optimization routes to take so that I can optimize a schedule revolving around recall and office hours. What are some of the key concepts?"
   ]
  },
  {
   "cell_type": "markdown",
   "metadata": {},
   "source": [
    "### Objects At Play"
   ]
  },
  {
   "cell_type": "markdown",
   "metadata": {},
   "source": [
    "Some of the objects that exist in the program are:\n",
    "- *Modules*: These are a single cohesive set of objects that must be learned together in order to be most faithful to the curriculum\n",
    "- *Units*: Contained within modules, each unit has a type that must follow the other unit type in order for it to make any sense\n",
    "- *Schedule*: This is where the information about what to do and when to do it will be displayed.\n",
    " - There are a few schedule items that are *fixed* such as office hours, lectures, discussions, etc.\n",
    " - Some unit types must be scheduled *before* a particular fixed type. For example, a first exposure to a discussion should occur *before* the fixed discussion section is scheduled."
   ]
  },
  {
   "cell_type": "markdown",
   "metadata": {},
   "source": [
    "## Approach"
   ]
  },
  {
   "cell_type": "markdown",
   "metadata": {},
   "source": [
    "We're gonna play around with the approach here. So we have some number $ x $ that represents a timestamp at which a particular kind of unit must be done. Lets say that the unit timestamp is $ a^* $ (some timestamp that we are trying to compute). What requirements should $ a^* $ meet?\n",
    "- Should be before x\n",
    "- Should not interfere with any other activities\n",
    "\n",
    "So we have $ A^* = \\{a \\in A | a < x\\} $\n",
    "\n",
    "This is the set of all possible solutions to this particular small problem. Now the issue is that there are *many* fixed dates and *many* items to schedule per fixed date. So maybe lets imagine what a vector of timestamps would look like.\n",
    "\n",
    "$$ a^* \\in \\mathbb{R}^n \\text{ s.t. } a_{i}^{*} < x; i = 1,2,...,n $$\n",
    "\n",
    "But actually there are greater requirements than that. Each unit takes up a *block* of space so that, in fact, each unit must be time stamped at a time *less than* $ x - b $, where $ b $ is the size of the block for the unit. For now we're gonna assume that each unit has the exact same $ b $ as every other unit. Ok so now we have a rather complicated vector.\n",
    "\n",
    "$$ a^* \\in \\mathbb{R}^{n+1} \\text{ s.t. } a_{i+1}^* \\geq a_{i}^* + b; a_{n} + b \\leq x; i = 1, 2,...,n, b \\in \\mathbb{R}^{n+1} $$\n",
    "\n",
    "Ok but this doesn't take into account the fact that we also have $ x $ to worry about. Not a problem, we can just add $ x $ to the end of the vector and that will ensure that we have the right time. So now what? There have to be a few things that are true about this recursive definition of the vector. So, for example, we can note that\n",
    "\n",
    "$$ a_{i+1}^* - a_{i}^* \\geq b; i = 1, 2, ..., n-1 $$\n",
    "\n",
    "Since b is a known value, we can probably do a matrix operation on the vector and see if the result matches a particular constraint.\n",
    "\n",
    "A matrix like this should always be solvable, so we can actually create a linear system such that\n",
    "\n",
    "$$ Ta^* \\geq b $$\n",
    "\n",
    "and then solve for $ a^* $, where $ T $ is the matrix that does all of the proper operations. Now this is the overly simplified case because there are *multiple* fixed objects with *different* time blocks that have their own units that have to be scheduled *before* their particular assigned fixed item. Then there are cases where something needs to be scheduled *after* something as well. So we'll need to consider those cases.\n",
    "\n",
    "So we could just make b not entirely made up of a single constant. However, how would we make it work for multiple fixed constants? Well I mean, the constants themselves have to be compatible with the other constants, so that wouldn't be much of a problem. So for example, if there are 2 constant events scheduled at an interval $ y $ from each other, we could just add that constraint to the matrix. The question would be whether or not that matrix would be solvable. Now, because each set of units has to be less than a set number, and those numbers are also fixed to be ordered, then we get a perfectly ordered set of elements that will not coincide with each other."
   ]
  },
  {
   "cell_type": "markdown",
   "metadata": {},
   "source": [
    "## 8/3/2021\n",
    "\n",
    "So lets begin by creating a sample matrix of what this might look like. Lets assume that we are using minutes as the numerical units in the system, and that there is a difference of 30 minutes between 2 events, one of which is fixed. There are 1440 minutes in a day, so lets just say that we have a fixed event at 720 minutes (noon) and we have another event about 60 minutes before that. So we have to create a system of linear equations that uses this info. Ok."
   ]
  },
  {
   "cell_type": "markdown",
   "metadata": {},
   "source": [
    "$$ \\begin{bmatrix}\n",
    "-1 & 1 & 0\\\\\n",
    "0 & -1 & 1\\\\\n",
    "\\end{bmatrix} \n",
    "\\cdot \n",
    "\\begin{bmatrix}\n",
    "a_1\\\\\n",
    "a_2\\\\\n",
    "x\\\\\n",
    "\\end{bmatrix} = \n",
    "\\begin{bmatrix}\n",
    "b_1\\\\\n",
    "b_2\\\\\n",
    "\\end{bmatrix}$$"
   ]
  },
  {
   "cell_type": "markdown",
   "metadata": {},
   "source": [
    "So obviously after thinking through it more carefully I was wrong about it having a particular solution, which is good because redundancy allows us to create a few more optimizations if need be. Either way, now we have a space of solutions which is dope. We can also constrain the times in which these events occur (so we don't get any midnight solutions). "
   ]
  }
 ],
 "metadata": {
  "kernelspec": {
   "display_name": "Python 3",
   "language": "python",
   "name": "python3"
  },
  "language_info": {
   "codemirror_mode": {
    "name": "ipython",
    "version": 3
   },
   "file_extension": ".py",
   "mimetype": "text/x-python",
   "name": "python",
   "nbconvert_exporter": "python",
   "pygments_lexer": "ipython3",
   "version": "3.8.8"
  }
 },
 "nbformat": 4,
 "nbformat_minor": 4
}
