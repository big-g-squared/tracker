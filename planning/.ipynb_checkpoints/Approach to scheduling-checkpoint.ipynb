{
 "cells": [
  {
   "cell_type": "markdown",
   "metadata": {},
   "source": [
    "## Purpose"
   ]
  },
  {
   "cell_type": "markdown",
   "metadata": {},
   "source": [
    "The intentions for this notebook are to explore the possible optimization routes to take so that I can optimize a schedule revolving around recall and office hours. What are some of the key concepts?"
   ]
  },
  {
   "cell_type": "markdown",
   "metadata": {},
   "source": [
    "### Objects At Play"
   ]
  },
  {
   "cell_type": "markdown",
   "metadata": {},
   "source": [
    "Some of the objects that exist in the program are:\n",
    "- *Modules*: These are a single cohesive set of objects that must be learned together in order to be most faithful to the curriculum\n",
    "- *Units*: Contained within modules, each unit has a type that must follow the other unit type in order for it to make any sense\n",
    "- *Schedule*: This is where the information about what to do and when to do it will be displayed.\n",
    " - There are a few schedule items that are *fixed* such as office hours, lectures, discussions, etc.\n",
    " - Some unit types must be scheduled *before* a particular fixed type. For example, a first exposure to a discussion should occur *before* the fixed discussion section is scheduled."
   ]
  },
  {
   "cell_type": "markdown",
   "metadata": {},
   "source": [
    "## Approach"
   ]
  },
  {
   "cell_type": "markdown",
   "metadata": {},
   "source": [
    "We're gonna play around with the approach here. So we have some number $ x $ that represents a timestamp at which a particular kind of unit must be done. Lets say that the unit timestamp is $ a^* $ (some timestamp that we are trying to compute). What requirements should $ a^* $ meet?\n",
    "- Should be before x\n",
    "- Should not interfere with any other activities\n",
    "\n",
    "So we have $ A^* = \\{a \\in A | a < x\\} $\n",
    "\n",
    "This is the set of all possible solutions to this particular small problem. Now the issue is that there are *many* fixed dates and *many* items to schedule per fixed date. So maybe lets imagine what a vector of timestamps would look like.\n",
    "\n",
    "$$ a^* \\in R^n \\text{ s.t. } a_{i}^{*} < x, i = 1,2,...,n $$\n",
    "\n",
    "But actually there are greater requirements than that. Each unit takes up a *block* of space so that, in fact, each unit must be time stamped at a time *less than* $ x - b $, where $ b $ is the size of the block for the unit. For now we're gonna assume that each unit has the exact same $ b $ as every other unit. Ok so now we have a rather complicated vector.\n",
    "\n",
    "$$ a^* \\in R^n \\text{ s.t. } a_{i+1}^* >= a_{i}^* + b, a_{n} + b < x, i = 1, 2,...,n-1, b \\in R^{n+1} $$\n",
    "\n",
    "Ok but this doesn't take into account the fact that we also have $ x $ to worry about. Not a problem, we can just add $ x $ to the end of the vector and that will ensure that we have the right time. So now what? There have to be a few things that are true about this recursive definition of the vector. So, for example, we can note that\n",
    "\n",
    "$$ a_{i+1}^* - a_{i}^* > b, i = 1, 2, ..., n-1 $$\n",
    "\n",
    "Since b is a constant, we can probably do a matrix operation on the vector and see if the result matches a particular constraint.\n",
    "\n",
    "A matrix like this should always be solvable, so we can actually create a linear system such that\n",
    "\n",
    "$$ Ta^* = b $$\n",
    "\n",
    "and then solve for $ a^* $, where $ T $ is the matrix that does all of the proper operations. Now this is the overly simplified case because there are *multiple* fixed objects with *different* time blocks that have their own units that have to be scheduled *before* their particular assigned fixed item. Then there are cases where something needs to be scheduled *after* something as well. So we'll need to consider those cases.\n",
    "\n",
    "So we could just make b not entirely made up of a single constant. However, how would we make it work for multiple fixed constants? Well I mean, the constants themselves have to be compatible with the other constants, so that wouldn't be much of a problem. So for example, if there are 2 constant events scheduled at an interval $ y $ from each other, we could just add that constraint to the matrix. The question would be whether or not that matrix would be solvable. Now, because each set of units has to be less than a set number, and those numbers are also fixed to be ordered, then we get a perfectly ordered set of elements that will not coincide with each other."
   ]
  },
  {
   "cell_type": "code",
   "execution_count": null,
   "metadata": {},
   "outputs": [],
   "source": []
  }
 ],
 "metadata": {
  "kernelspec": {
   "display_name": "Python 3",
   "language": "python",
   "name": "python3"
  },
  "language_info": {
   "codemirror_mode": {
    "name": "ipython",
    "version": 3
   },
   "file_extension": ".py",
   "mimetype": "text/x-python",
   "name": "python",
   "nbconvert_exporter": "python",
   "pygments_lexer": "ipython3",
   "version": "3.8.5"
  }
 },
 "nbformat": 4,
 "nbformat_minor": 4
}
