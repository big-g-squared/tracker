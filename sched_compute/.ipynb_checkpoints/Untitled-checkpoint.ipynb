{
 "cells": [
  {
   "cell_type": "markdown",
   "id": "0d2b9142",
   "metadata": {},
   "source": [
    "### Google calendar quickstart code"
   ]
  },
  {
   "cell_type": "code",
   "execution_count": null,
   "id": "19022170",
   "metadata": {},
   "outputs": [],
   "source": [
    "from __future__ import print_function\n",
    "import datetime\n",
    "import os.path\n",
    "from googleapiclient.discovery import build\n",
    "from google_auth_oauthlib.flow import InstalledAppFlow\n",
    "from googlegoogleauth.transport.requests import Request\n",
    "from google.oauth2.credentials import Credentials\n",
    "\n",
    "SCOPES = ['https://www.googleapis.com/auth/calendar.readonly']\n",
    "\n",
    "def main():\n",
    "    # file token.json only exists if workflow run thru once already\n",
    "    if os.path.exists('token.json'):\n",
    "        creds = Credentials.from_authorized_user_file('token.json', SCOPES)\n",
    "    if not creds or not creds.valid:\n",
    "        if creds and creds.expired and creds.refresh_token:\n",
    "            creds.refresh(Request())\n",
    "        else:\n",
    "            flow = InstalledAppFlow.from_client_secrets_file(\n",
    "                'credentials.json', SCOPES)\n",
    "            creds = flow.run_local_server(port=0)\n",
    "            # Save credentials for next run\n",
    "            with open('token.json', 'w') as token:\n",
    "                token.write(creds.to_json())\n",
    "    service = build('calendar', 'v3', credentials=creds)\n",
    "    \n",
    "    # Call the Calendar API\n",
    "    now = datetime.datetime.utcnow().isoformat() + 'Z' #'Z' indicates UTC time\n",
    "    print('Getting the upcoming 10 events')\n",
    "    events_result = service.events().list(calendarId='primary', timeMin=now, \n",
    "                                          maxResults=10, singleEvents=True,\n",
    "                                         orderBy='startTime').execute()\n",
    "    events = events_result.get('items', [])\n",
    "    \n",
    "    if not events:\n",
    "        print('No upcoming events found')\n",
    "    for event in events:\n",
    "        start = event['start'].get('dateTime', event['start'].get('date'))\n",
    "        print(start, event['summary'])\n",
    "\n",
    "if __name__ == '__main__':\n",
    "    main()"
   ]
  },
  {
   "cell_type": "markdown",
   "id": "773a1851",
   "metadata": {},
   "source": [
    "### What's next?\n",
    "\n",
    "We're gonna grab my calendar and put it inside a data structure so that we can modify it after."
   ]
  },
  {
   "cell_type": "code",
   "execution_count": null,
   "id": "1a7e4072",
   "metadata": {},
   "outputs": [],
   "source": [
    "def initSetup():\n",
    "    if os.path.exists('token.json'):\n",
    "        creds = Credentials.from_authorized_user_file('token.json', SCOPES)\n",
    "    if not creds or not creds.valid:\n",
    "        if creds and creds.expired and creds.refresh_token:\n",
    "            creds.refresh(Request())\n",
    "        else:\n",
    "            flow = InstalledAppFlow.from_client_secrets_file(\n",
    "                'credentials.json', SCOPES)\n",
    "            creds = flow.run_local_server(port=0)\n",
    "            # Save credentials for next run\n",
    "            with open('token.json', 'w') as token:\n",
    "                token.write(creds.to_json())\n",
    "    return build('calendar', 'v3', credentials=creds)\n",
    "\n",
    "now = datetime.datetime.utcnow().isoformat() + 'Z' # Apparently Z indicates UTC time\n",
    "\n",
    "# This is where i'm gonna call the service and then put it in some sort of structure\n",
    "events_result = service.events().list(calendarId='primary', timeMin=now,\n",
    "                                     maxResults=10, singleevents=True,\n",
    "                                     orderBy='startTime').execute()\n",
    "events = events_result.get('items', []) # So apparently each event is stored\n",
    "# as an individual object. It's an iterable so I can iterate thru everything\n",
    "    \n",
    "\n",
    "\n"
   ]
  },
  {
   "cell_type": "markdown",
   "id": "13527ce4",
   "metadata": {},
   "source": [
    "### What to do next\n",
    "\n",
    "I should probably make some objects to make my life easier. Maybe wrap the\n",
    "google objects in a general event object wrapper and then get some accessor\n",
    "methods to generalize everything. I would have to access the:\n",
    "- Name\n",
    "- Start date\n",
    "- End date\n",
    "\n",
    "Then there might be some google particulars but I can deal with those another time."
   ]
  },
  {
   "cell_type": "code",
   "execution_count": 2,
   "id": "c859108b",
   "metadata": {},
   "outputs": [
    {
     "ename": "SyntaxError",
     "evalue": "unexpected EOF while parsing (<ipython-input-2-4a23b58bbf89>, line 9)",
     "output_type": "error",
     "traceback": [
      "\u001b[0;36m  File \u001b[0;32m\"<ipython-input-2-4a23b58bbf89>\"\u001b[0;36m, line \u001b[0;32m9\u001b[0m\n\u001b[0;31m    \u001b[0m\n\u001b[0m    ^\u001b[0m\n\u001b[0;31mSyntaxError\u001b[0m\u001b[0;31m:\u001b[0m unexpected EOF while parsing\n"
     ]
    }
   ],
   "source": [
    "class Event:\n",
    "    def setName(name):\n",
    "        self.name = name\n",
    "    def setStartDate(date):\n",
    "        self.start_date = date\n",
    "    def setEndDate(date):\n",
    "        self.end_date = date\n",
    "    \n",
    "class GoogleEvent(Event):\n",
    "    def __init__(self, google_event):\n",
    "        \n",
    "    \n",
    "    \n",
    "    "
   ]
  },
  {
   "cell_type": "code",
   "execution_count": null,
   "id": "7ca6eb6c",
   "metadata": {},
   "outputs": [],
   "source": []
  }
 ],
 "metadata": {
  "kernelspec": {
   "display_name": "Python 3",
   "language": "python",
   "name": "python3"
  },
  "language_info": {
   "codemirror_mode": {
    "name": "ipython",
    "version": 3
   },
   "file_extension": ".py",
   "mimetype": "text/x-python",
   "name": "python",
   "nbconvert_exporter": "python",
   "pygments_lexer": "ipython3",
   "version": "3.8.8"
  }
 },
 "nbformat": 4,
 "nbformat_minor": 5
}
